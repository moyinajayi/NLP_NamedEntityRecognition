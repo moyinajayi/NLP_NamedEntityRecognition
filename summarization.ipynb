{
 "cells": [
  {
   "cell_type": "code",
   "execution_count": 2,
   "metadata": {},
   "outputs": [],
   "source": [
    "#pip install sumy"
   ]
  },
  {
   "cell_type": "code",
   "execution_count": 5,
   "metadata": {},
   "outputs": [
    {
     "name": "stderr",
     "output_type": "stream",
     "text": [
      "[nltk_data] Downloading package punkt to\n",
      "[nltk_data]     C:\\Users\\moyin\\AppData\\Roaming\\nltk_data...\n",
      "[nltk_data]   Package punkt is already up-to-date!\n"
     ]
    },
    {
     "data": {
      "text/plain": [
       "True"
      ]
     },
     "execution_count": 5,
     "metadata": {},
     "output_type": "execute_result"
    }
   ],
   "source": [
    "from sumy.summarizers.lex_rank import LexRankSummarizer\n",
    "from sumy.summarizers.lsa import LsaSummarizer\n",
    "from sumy.nlp.tokenizers import Tokenizer   ##Tokenizer, process of breaking down sentences into words\n",
    "from sumy.parsers.html import HtmlParser\n",
    "from sumy.parsers.plaintext import PlaintextParser\n",
    "\n",
    "import nltk\n",
    "nltk.download('punkt')"
   ]
  },
  {
   "cell_type": "code",
   "execution_count": 6,
   "metadata": {},
   "outputs": [],
   "source": [
    "sample_text = \"\"\"There is a massive shift underway in the global economy. Fueled by a global pandemic, we are seeing economic, cultural and social trends colliding.\n",
    "\n",
    "This has led to a rapid transformation in how we work, where we work and even why we work. The only constant is change. And change that previously took decades, has happened in just two years. At Linkedin, we call this “The Great Reshuffle”.\n",
    "\n",
    "Running in parallel with “The Great Reshuffle” is the world’s urgent need to save itself. Sir David Attenborough tells us “the future of humanity and indeed, all life on earth, now depends on us”.\n",
    "\n",
    "Our hope is that we can collectively turn the climate crisis into an opportunity for change. We can all help save the planet by creating and pursuing greener careers for the world’s workforce. This green transition can see existing jobs apply more green skills and new green jobs emerge in tandem.\n",
    "\n",
    "Such jobs include Sustainability Manager, Wind Turbine Technician, Solar Consultant, Ecologist, Environmental Health & Safety Specialist: roles that barely existed just a decade ago yet today are the five fastest-growing green jobs globally.\n",
    "\n",
    "So what does this mean for you? How can you get yourself ready for the green economy that lies ahead?\n",
    "\n",
    "In my LinkedIn Learning course, Closing the Green Skills Gap to Power a Greener Economy, I’ll help you better understand the green transition and the opportunities it presents. You’ll learn more about green skills and understand the rise of green jobs. I’ll look at what different countries and sectors are doing to lead green change. I’ll also give practical advice about what you can do to embrace and take advantage of this rapid economic shift. Watch this course for free until May 19, 2022. \n",
    "\n",
    "Remember - change starts with you! So whether you’re taking the first steps in your career or looking for a new challenge in your existing one, here are three things you can do to turbocharge your career in the green economy.\n",
    "\n",
    "Upskill for green skills and green careers\n",
    "Improving your green skills is important to pursue emerging career opportunities. Globally, members with green skills have been more resilient to economic downturns than the rest of the workforce. So improving or adding to your green skills is a great place to start. You could consider self-directed learning, offline or online. You could also enroll in a green-related higher education course to help you upskill.\n",
    "\n",
    "Meanwhile, in the workplace, you could brush up on green skills as part of your organization's learning curriculum. Why not ask your employer or organization what green skills training may be available and even how you could volunteer to help make it happen?\n",
    "\n",
    "Nurture your network of green skilled workers\n",
    "Your network is something you can’t put a price on. That’s because you’ve built it by nurturing relationships and showcasing your capabilities. But you need to keep it up!\n",
    "\n",
    "Indeed our data shows that green skilled workers tend to have stronger networks, with two and sometimes three times more connections on average. Your network is the way to build new relationships, ignite conversations and find new opportunities.\n",
    "\n",
    "So start seeking out ‘green’ related content that interests you and consider engaging with it, for example, by commenting on it or sharing it. \n",
    "\n",
    "Why not join a LinkedIn Group dedicated to a green topic that you’re passionate about? And if you’re feeling more adventurous, you can even set up your own LinkedIn group, especially if you can’t find a green topic specific to your job.\n",
    "\n",
    "That way, you’ll ignite new conversations which could present new green opportunities for not only you but also your network.\"\"\""
   ]
  },
  {
   "cell_type": "code",
   "execution_count": 7,
   "metadata": {},
   "outputs": [
    {
     "data": {
      "text/plain": [
       "3654"
      ]
     },
     "execution_count": 7,
     "metadata": {},
     "output_type": "execute_result"
    }
   ],
   "source": [
    "len(sample_text)"
   ]
  },
  {
   "cell_type": "code",
   "execution_count": 8,
   "metadata": {},
   "outputs": [],
   "source": [
    "string_parser = PlaintextParser.from_string(sample_text, Tokenizer('english'))"
   ]
  },
  {
   "cell_type": "code",
   "execution_count": 9,
   "metadata": {},
   "outputs": [
    {
     "data": {
      "text/plain": [
       "(<Sentence: There is a massive shift underway in the global economy.>,\n",
       " <Sentence: The only constant is change.>,\n",
       " <Sentence: And change that previously took decades, has happened in just two years.>,\n",
       " <Sentence: At Linkedin, we call this “The Great Reshuffle”.>,\n",
       " <Sentence: Sir David Attenborough tells us “the future of humanity and indeed, all life on earth, now depends on us”.>,\n",
       " <Sentence: We can all help save the planet by creating and pursuing greener careers for the world’s workforce.>,\n",
       " <Sentence: This green transition can see existing jobs apply more green skills and new green jobs emerge in tandem.>,\n",
       " <Sentence: So what does this mean for you?>,\n",
       " <Sentence: How can you get yourself ready for the green economy that lies ahead?>,\n",
       " <Sentence: In my LinkedIn Learning course, Closing the Green Skills Gap to Power a Greener Economy, I’ll help you better understand the green transition and the opportunities it presents.>,\n",
       " <Sentence: You’ll learn more about green skills and understand the rise of green jobs.>,\n",
       " <Sentence: So whether you’re taking the first steps in your career or looking for a new challenge in your existing one, here are three things you can do to turbocharge your career in the green economy.>,\n",
       " <Sentence: Upskill for green skills and green careers Improving your green skills is important to pursue emerging career opportunities.>,\n",
       " <Sentence: So improving or adding to your green skills is a great place to start.>,\n",
       " <Sentence: Meanwhile, in the workplace, you could brush up on green skills as part of your organization's learning curriculum.>,\n",
       " <Sentence: Why not ask your employer or organization what green skills training may be available and even how you could volunteer to help make it happen?>,\n",
       " <Sentence: Nurture your network of green skilled workers Your network is something you can’t put a price on.>,\n",
       " <Sentence: Your network is the way to build new relationships, ignite conversations and find new opportunities.>,\n",
       " <Sentence: So start seeking out ‘green’ related content that interests you and consider engaging with it, for example, by commenting on it or sharing it.>,\n",
       " <Sentence: That way, you’ll ignite new conversations which could present new green opportunities for not only you but also your network.>)"
      ]
     },
     "execution_count": 9,
     "metadata": {},
     "output_type": "execute_result"
    }
   ],
   "source": [
    "Lex = LexRankSummarizer()\n",
    "string_lex_summary = Lex(document=string_parser.document,sentences_count=20)\n",
    "string_lex_summary"
   ]
  },
  {
   "cell_type": "code",
   "execution_count": 10,
   "metadata": {},
   "outputs": [
    {
     "data": {
      "text/plain": [
       "(<Sentence: There is a massive shift underway in the global economy.>,\n",
       " <Sentence: Fueled by a global pandemic, we are seeing economic, cultural and social trends colliding.>,\n",
       " <Sentence: And change that previously took decades, has happened in just two years.>,\n",
       " <Sentence: At Linkedin, we call this “The Great Reshuffle”.>,\n",
       " <Sentence: Sir David Attenborough tells us “the future of humanity and indeed, all life on earth, now depends on us”.>,\n",
       " <Sentence: Our hope is that we can collectively turn the climate crisis into an opportunity for change.>,\n",
       " <Sentence: We can all help save the planet by creating and pursuing greener careers for the world’s workforce.>,\n",
       " <Sentence: Such jobs include Sustainability Manager, Wind Turbine Technician, Solar Consultant, Ecologist, Environmental Health & Safety Specialist: roles that barely existed just a decade ago yet today are the five fastest-growing green jobs globally.>,\n",
       " <Sentence: How can you get yourself ready for the green economy that lies ahead?>,\n",
       " <Sentence: I’ll look at what different countries and sectors are doing to lead green change.>,\n",
       " <Sentence: I’ll also give practical advice about what you can do to embrace and take advantage of this rapid economic shift.>,\n",
       " <Sentence: So whether you’re taking the first steps in your career or looking for a new challenge in your existing one, here are three things you can do to turbocharge your career in the green economy.>,\n",
       " <Sentence: You could consider self-directed learning, offline or online.>,\n",
       " <Sentence: Meanwhile, in the workplace, you could brush up on green skills as part of your organization's learning curriculum.>,\n",
       " <Sentence: Why not ask your employer or organization what green skills training may be available and even how you could volunteer to help make it happen?>,\n",
       " <Sentence: Nurture your network of green skilled workers Your network is something you can’t put a price on.>,\n",
       " <Sentence: That’s because you’ve built it by nurturing relationships and showcasing your capabilities.>,\n",
       " <Sentence: Indeed our data shows that green skilled workers tend to have stronger networks, with two and sometimes three times more connections on average.>,\n",
       " <Sentence: And if you’re feeling more adventurous, you can even set up your own LinkedIn group, especially if you can’t find a green topic specific to your job.>,\n",
       " <Sentence: That way, you’ll ignite new conversations which could present new green opportunities for not only you but also your network.>)"
      ]
     },
     "execution_count": 10,
     "metadata": {},
     "output_type": "execute_result"
    }
   ],
   "source": [
    "Lsa = LsaSummarizer()\n",
    "string_lsa_summary = Lsa(document=string_parser.document,sentences_count=20)\n",
    "string_lsa_summary"
   ]
  },
  {
   "cell_type": "code",
   "execution_count": 20,
   "metadata": {},
   "outputs": [
    {
     "data": {
      "text/plain": [
       "(<Sentence: Learn 10x faster and achieve your goals with project-based learning.>,\n",
       " <Sentence: Start free today and see why Dataquest graduates say it is the best way to learn data science online.>,\n",
       " <Sentence: Learn exactly what you need to achieve your goal — and nothing extra.>,\n",
       " <Sentence: Work with real data from day one with hands-on exercises.>,\n",
       " <Sentence: \"The learning paths on Dataquest are incredible.>,\n",
       " <Sentence: \"Dataquest finds a balance between being too easy and being so hard that you get discouraged.\">,\n",
       " <Sentence: Dataquest helped me get my dream job!\">,\n",
       " <Sentence: Give your employees and students the AI and data skills they need to excel.>,\n",
       " <Sentence: Learn Python, SQL, Excel, PowerBI, Tableau, data analysis, and AI programming skills using real world projects.>,\n",
       " <Sentence: Build real-world projects that get you job-ready.>,\n",
       " <Sentence: for learners who complete a path>,\n",
       " <Sentence: Business Analyst at Aditi Consulting>,\n",
       " <Sentence: I tried learning to code before, using Codecademy and Coursera.>,\n",
       " <Sentence: I struggled because I had no background in coding, and I was spending a lot of time Googling.>,\n",
       " <Sentence: Machine Learning Engineer at Twitter>,\n",
       " <Sentence: “I liked the interactive environment on Dataquest.>,\n",
       " <Sentence: I spent more time practicing then watching videos and it made me want to keep learning.”>,\n",
       " <Sentence: Associate Data Scientist at Callisto Media>,\n",
       " <Sentence: I looked into a couple of other options and I found that they were much too handhold-y and fill in the blank relative to Dataquest’s method.>,\n",
       " <Sentence: The projects on Dataquest were key to getting my job.>)"
      ]
     },
     "execution_count": 20,
     "metadata": {},
     "output_type": "execute_result"
    }
   ],
   "source": [
    "## Getting text from a url\n",
    "\n",
    "\n",
    "#url = \"https://www.nairaland.com\"\n",
    "#url = \"https://medium.com/@moyin.ajayi/the-ever-evolving-tech-career-nurturing-passion-through-continuous-learning-f78b87038312\"\n",
    "url = \"https://www.dataquest.io/\"\n",
    "\n",
    "html_parser = HtmlParser.from_url(url, Tokenizer('english'))\n",
    "html_lex_summary =  Lex(document=html_parser.document,sentences_count=20)\n",
    "html_lex_summary"
   ]
  },
  {
   "cell_type": "code",
   "execution_count": 21,
   "metadata": {},
   "outputs": [
    {
     "data": {
      "text/plain": [
       "(<Sentence: Learn 10x faster and achieve your goals with project-based learning.>,\n",
       " <Sentence: Dataquest’s guided paths, progress tracking, and AI assistance will ensure you master new skills quickly and effectively.>,\n",
       " <Sentence: Start free today and see why Dataquest graduates say it is the best way to learn data science online.>,\n",
       " <Sentence: Learn exactly what you need to achieve your goal — and nothing extra.>,\n",
       " <Sentence: Gain confidence and show off your data skills with projects.>,\n",
       " <Sentence: from pyodide.http import pyfetch\n",
       " from statistics import mean\n",
       " response = await pyfetch(\"https://dq-marketing-site.s3.amazonaws.com/f500.csv\")\n",
       " if response.status == 200:\n",
       " with open(\"f500.csv\", \"wb\") as f:\n",
       " f.write(await response.bytes())\n",
       " revenues = []\n",
       " with open(\"f500.csv\", \"r\") as f:\n",
       " rows = f.read().splitlines()\n",
       " for row in rows[1:]:\n",
       " split_row = row.split(\",\")\n",
       " revenues.append(int(split_row[2]))\n",
       " # Try a Dataquest exercise!>,\n",
       " <Sentence: # We loaded in the Fortune 500 list\n",
       " # Hit Run Code to show average revenue\n",
       " avg_revenue = mean(revenues)\n",
       " print(f\"Average revenue: ${avg_revenue}M\")\n",
       " Run Code Nice work!>,\n",
       " <Sentence: \"The learning paths on Dataquest are incredible.>,\n",
       " <Sentence: \"Dataquest finds a balance between being too easy and being so hard that you get discouraged.\">,\n",
       " <Sentence: Dataquest helped me get my dream job!\">,\n",
       " <Sentence: Learn Python, SQL, Excel, PowerBI, Tableau, data analysis, and AI programming skills using real world projects.>,\n",
       " <Sentence: Follow a proven path to achieve your goal.>,\n",
       " <Sentence: Learn faster with intuitive text explanations and diagrams.>,\n",
       " <Sentence: Build real-world projects that get you job-ready.>,\n",
       " <Sentence: I tried learning to code before, using Codecademy and Coursera.>,\n",
       " <Sentence: “I liked the interactive environment on Dataquest.>,\n",
       " <Sentence: The material was clear and well organized.>,\n",
       " <Sentence: I spent more time practicing then watching videos and it made me want to keep learning.”>,\n",
       " <Sentence: I looked into a couple of other options and I found that they were much too handhold-y and fill in the blank relative to Dataquest’s method.>,\n",
       " <Sentence: The projects on Dataquest were key to getting my job.>)"
      ]
     },
     "execution_count": 21,
     "metadata": {},
     "output_type": "execute_result"
    }
   ],
   "source": [
    "html_parser = HtmlParser.from_url(url, Tokenizer('english'))\n",
    "html_lsa_summary =  Lsa(document=html_parser.document,sentences_count=20)\n",
    "html_lsa_summary"
   ]
  }
 ],
 "metadata": {
  "kernelspec": {
   "display_name": "base",
   "language": "python",
   "name": "python3"
  },
  "language_info": {
   "codemirror_mode": {
    "name": "ipython",
    "version": 3
   },
   "file_extension": ".py",
   "mimetype": "text/x-python",
   "name": "python",
   "nbconvert_exporter": "python",
   "pygments_lexer": "ipython3",
   "version": "3.11.7"
  }
 },
 "nbformat": 4,
 "nbformat_minor": 2
}
